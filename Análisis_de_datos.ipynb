{
  "nbformat": 4,
  "nbformat_minor": 0,
  "metadata": {
    "colab": {
      "name": "Análisis de datos",
      "provenance": [],
      "collapsed_sections": [],
      "toc_visible": true,
      "authorship_tag": "ABX9TyMViyYp0bBQoQZwuPRTNg+C",
      "include_colab_link": true
    },
    "kernelspec": {
      "name": "python3",
      "display_name": "Python 3"
    },
    "language_info": {
      "name": "python"
    }
  },
  "cells": [
    {
      "cell_type": "markdown",
      "metadata": {
        "id": "view-in-github",
        "colab_type": "text"
      },
      "source": [
        "<a href=\"https://colab.research.google.com/github/alejomd17/Ejercicios_de_Python/blob/main/An%C3%A1lisis_de_datos.ipynb\" target=\"_parent\"><img src=\"https://colab.research.google.com/assets/colab-badge.svg\" alt=\"Open In Colab\"/></a>"
      ]
    },
    {
      "cell_type": "markdown",
      "metadata": {
        "id": "hrt3oJQSD6bi"
      },
      "source": [
        "#Librerías"
      ]
    },
    {
      "cell_type": "code",
      "metadata": {
        "id": "keoEAk9s-aUl",
        "colab": {
          "base_uri": "https://localhost:8080/"
        },
        "outputId": "15dd55ee-ea8e-4aae-ac7f-992ed29127a2"
      },
      "source": [
        "import numpy as np\n",
        "import pandas as pd\n",
        "import matplotlib.pyplot as plt\n",
        "import seaborn as sns\n",
        "from sklearn.preprocessing import StandardScaler\n",
        "from sklearn.linear_model import LinearRegression\n",
        "import statsmodels.api as sm\n",
        "import statsmodels.formula.api as smf\n",
        "from sklearn.cluster import KMeans\n",
        "from sklearn.preprocessing import scale"
      ],
      "execution_count": null,
      "outputs": [
        {
          "output_type": "stream",
          "name": "stderr",
          "text": [
            "/usr/local/lib/python3.7/dist-packages/statsmodels/tools/_testing.py:19: FutureWarning: pandas.util.testing is deprecated. Use the functions in the public API at pandas.testing instead.\n",
            "  import pandas.util.testing as tm\n"
          ]
        }
      ]
    },
    {
      "cell_type": "code",
      "metadata": {
        "id": "o2jM2hiwANIt"
      },
      "source": [
        "plt.subplot(1,3,3)"
      ],
      "execution_count": null,
      "outputs": []
    },
    {
      "cell_type": "markdown",
      "metadata": {
        "id": "2A7N25mJCHgB"
      },
      "source": [
        "# Punto 1. \n",
        "Mediante la ayuda de su software de preferencia, separe los componentes X y Y. Adicionalmente, visualice los datos mediante un scatter plot. De acuerdo con los resultados presentados en el scatter plot, ¿concluye si los datos pueden ser ajustados por una línea recta? \n",
        "\n"
      ]
    },
    {
      "cell_type": "markdown",
      "metadata": {
        "id": "Z3iWL9mpD88M"
      },
      "source": [
        "##Datos"
      ]
    },
    {
      "cell_type": "code",
      "metadata": {
        "colab": {
          "base_uri": "https://localhost:8080/"
        },
        "id": "HlxjATrE-SmK",
        "outputId": "1f99b2d1-d5aa-4c28-a3cc-a806e37d1247"
      },
      "source": [
        "x = np.array([0.05,0.18,0.31,0.42,0.5])\n",
        "y= np.array([0.12,0.22,0.35,0.38,0.49])\n",
        "print(x,y)"
      ],
      "execution_count": null,
      "outputs": [
        {
          "output_type": "stream",
          "name": "stdout",
          "text": [
            "[0.05 0.18 0.31 0.42 0.5 ] [0.12 0.22 0.35 0.38 0.49] (0.08215135794934389, 0.7871528837351235)\n"
          ]
        }
      ]
    },
    {
      "cell_type": "markdown",
      "metadata": {
        "id": "_RtUm_rGMplw"
      },
      "source": [
        "##Gráfica"
      ]
    },
    {
      "cell_type": "code",
      "metadata": {
        "colab": {
          "base_uri": "https://localhost:8080/",
          "height": 283
        },
        "id": "ms6qtG6hAbnN",
        "outputId": "8cd9fab2-6e22-465e-886a-33d06620e796"
      },
      "source": [
        "plt.scatter(x, y, color = \"g\", marker = \"o\", s=30)"
      ],
      "execution_count": null,
      "outputs": [
        {
          "output_type": "execute_result",
          "data": {
            "text/plain": [
              "<matplotlib.collections.PathCollection at 0x7fa5e2c705d0>"
            ]
          },
          "metadata": {},
          "execution_count": 39
        },
        {
          "output_type": "display_data",
          "data": {
            "image/png": "[encoded data removed]",
            "text/plain": [
              "<Figure size 432x288 with 1 Axes>"
            ]
          },
          "metadata": {
            "needs_background": "light"
          }
        }
      ]
    },
    {
      "cell_type": "markdown",
      "metadata": {
        "id": "YYHxuB0BLa8f"
      },
      "source": [
        "## Respuesta\n",
        "Efectivamente los datos pueden ser ajustados por línea recta, ya que siguen una tendencia lineal. Ambos podrían asumirse muy correlacionados entre sí, ya que ante un crecimiento en el comportamiento de uno incide en el crecimiento de la otra.\n"
      ]
    },
    {
      "cell_type": "markdown",
      "metadata": {
        "id": "qKrp-F3bEHTV"
      },
      "source": [
        "#Punto 2\n",
        "Uno de los enfoques para resolver el problema de regresión lineal es utilizar la matriz inversa. Mediante el software de su preferencia, calcule el coeficiente de la regresión b, y utilícelo para calcular el valor predicho de Y. Posteriormente, grafique los datos mediante un scatter plot.\n"
      ]
    },
    {
      "cell_type": "markdown",
      "metadata": {
        "id": "c8HdbglLHznv"
      },
      "source": [
        "### Forma aritmética"
      ]
    },
    {
      "cell_type": "code",
      "metadata": {
        "id": "BORXFPNmAT_Q"
      },
      "source": [
        "def estimate_b0_b1(x, y):\n",
        "    n = np.size(x)\n",
        "    #obtenemos los promedios de X y de Y\n",
        "    m_x, m_y = np.mean(x), np.mean(y)\n",
        "\n",
        "    #Calcular sumatoria de XY y mi sumatoria de XX\n",
        "    Sumatoria_xy = np.sum((x-m_x)*(y-m_y))\n",
        "    Sumatoria_xx = np.sum(x*(x-m_x))\n",
        "\n",
        "    #coeficientes de regresion\n",
        "    b_1 = Sumatoria_xy / Sumatoria_xx\n",
        "    b_0 = m_y - b_1*m_x\n",
        "\n",
        "    return(b_0, b_1)"
      ],
      "execution_count": null,
      "outputs": []
    },
    {
      "cell_type": "code",
      "metadata": {
        "id": "gA0PIOxrDQ8n"
      },
      "source": [
        "b = estimate_b0_b1(x, y)\n",
        "print(x,y,b)"
      ],
      "execution_count": null,
      "outputs": []
    },
    {
      "cell_type": "markdown",
      "metadata": {
        "id": "ZuhhPHsuH39u"
      },
      "source": [
        "### Forma matricial"
      ]
    },
    {
      "cell_type": "code",
      "metadata": {
        "colab": {
          "base_uri": "https://localhost:8080/"
        },
        "id": "hIeQUH3-HewS",
        "outputId": "3bae0829-dd85-4199-a43c-84163fcc6217"
      },
      "source": [
        "X = np.array([np.ones(len(x)),x]).T\n",
        "X"
      ],
      "execution_count": null,
      "outputs": [
        {
          "output_type": "execute_result",
          "data": {
            "text/plain": [
              "array([[1.  , 0.05],\n",
              "       [1.  , 0.18],\n",
              "       [1.  , 0.31],\n",
              "       [1.  , 0.42],\n",
              "       [1.  , 0.5 ]])"
            ]
          },
          "metadata": {},
          "execution_count": 65
        }
      ]
    },
    {
      "cell_type": "code",
      "metadata": {
        "colab": {
          "base_uri": "https://localhost:8080/"
        },
        "id": "ATacOMPpH6XN",
        "outputId": "23c467a8-8d05-45f8-82de-f42d9c52d17a"
      },
      "source": [
        "B = np.linalg.inv(X.T @ X) @ X.T @ y\n",
        "B"
      ],
      "execution_count": null,
      "outputs": [
        {
          "output_type": "execute_result",
          "data": {
            "text/plain": [
              "array([0.08215136, 0.78715288])"
            ]
          },
          "metadata": {},
          "execution_count": 68
        }
      ]
    },
    {
      "cell_type": "markdown",
      "metadata": {
        "id": "yzUOXfvdI79w"
      },
      "source": [
        "### Gráfica"
      ]
    },
    {
      "cell_type": "code",
      "metadata": {
        "colab": {
          "base_uri": "https://localhost:8080/",
          "height": 295
        },
        "id": "aLsyeEagBNqV",
        "outputId": "3062daf2-e074-4980-e556-3496b9f04510"
      },
      "source": [
        "plt.scatter(x, y, color = \"g\", marker = \"o\", s=30)\n",
        "y_pred = b[0] + b[1]*x\n",
        "plt.plot(x, y_pred, color = \"b\")\n",
        "plt.xlabel('X')\n",
        "plt.ylabel('Y')\n",
        "plt.title('Scatter Plot')\n",
        "plt.show()"
      ],
      "execution_count": null,
      "outputs": [
        {
          "output_type": "display_data",
          "data": {
            "image/png": "[encoded data removed]",
            "text/plain": [
              "<Figure size 432x288 with 1 Axes>"
            ]
          },
          "metadata": {
            "needs_background": "light"
          }
        }
      ]
    },
    {
      "cell_type": "code",
      "metadata": {
        "colab": {
          "base_uri": "https://localhost:8080/",
          "height": 295
        },
        "id": "OtfzzpytI3qf",
        "outputId": "b4d065cf-da8a-40df-c702-8e9a42cb7d47"
      },
      "source": [
        "plt.scatter(x, y, color = \"g\", marker = \"o\", s=30)\n",
        "y_pred = B[0] + B[1]*x\n",
        "plt.plot(x, y_pred, color = \"r\")\n",
        "plt.xlabel('X')\n",
        "plt.ylabel('Y')\n",
        "plt.title('Scatter Plot')\n",
        "plt.show()"
      ],
      "execution_count": null,
      "outputs": [
        {
          "output_type": "display_data",
          "data": {
            "image/png": "[encoded data removed]",
            "text/plain": [
              "<Figure size 432x288 with 1 Axes>"
            ]
          },
          "metadata": {
            "needs_background": "light"
          }
        }
      ]
    },
    {
      "cell_type": "markdown",
      "metadata": {
        "id": "QbRq3KvwLUwx"
      },
      "source": [
        "## Respuesta\n",
        "Se comprueba que al calcular el coeficiente de regresión, tiene una tendencia lineal. Al calcular los coeficientes de regresión B podemos calcular las proyecciones de y, concluyendo que tienen una tendencia lineal positiva. Esto da más viabilidad de que se confirme la hipotesis del enciso anterior que estos datos tienen una alta correlación."
      ]
    },
    {
      "cell_type": "markdown",
      "metadata": {
        "id": "tNfwebbXLJTp"
      },
      "source": [
        "# Punto 3\n",
        "Se presenta el histograma y el boxplot de las valoraciones de 1 a 10 proporcionadas por 1000 individuos en 4 países distintos A, B, C y D sobre la percepción de la corrupción en su país. Una valoración alta quiere decir que el individuo percibe que en su país hay mucha corrupción."
      ]
    },
    {
      "cell_type": "markdown",
      "metadata": {
        "id": "1OxN4waYLly5"
      },
      "source": [
        "##a. Histogramas"
      ]
    },
    {
      "cell_type": "markdown",
      "metadata": {
        "id": "oBWkci0BLGRZ"
      },
      "source": [
        "![image.png](data:image/png;base64,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)"
      ]
    },
    {
      "cell_type": "markdown",
      "metadata": {
        "id": "YcCYTeEXLIVN"
      },
      "source": [
        "##b. Baja Corrupción\n",
        "El país donde sus habitantes perciben que no hay mucha corrupción es el país B. Esto es explicado por su histograma, donde podemos comprobar que un porcentaje muy alto de la población (420 personas aproximadamente) considera que el nivel de corrupción de su país es 0 o inferior. De igual forma muy pocas personas consideran que se encuentra en niveles de corrupción inclusive superiores a 6.\n",
        "Su diagrama de cajas también identifica este mismo comportamiento al tener sus puntos en el rango más bajo, y solo unos cuantos puntos atípicos que incluso se tienen a excluir."
      ]
    },
    {
      "cell_type": "markdown",
      "metadata": {
        "id": "v7S8yVkkL63V"
      },
      "source": [
        "##c. No es clara la Corrupción\n",
        "De igual forma, el país donde no es clara la corrupción es el país A, ya que tiene altas cantidades de respuestas en todos sus niveles de corrupción. Esto es comprobado tanto por la caja como por el histograma, donde sus puntos son mucho más amplios en todos los niveles."
      ]
    },
    {
      "cell_type": "markdown",
      "metadata": {
        "id": "-ujZxHKvMKxH"
      },
      "source": [
        "##d. Como sería en Colombia\n",
        "Consideraría que la distribución que más se acogería a la percepción actual de colombia es la presentada a continuación, donde una gran parte de su población tiene una imagen sumamente negativa de la corrupción, considerada como la cuna de los problemas del país."
      ]
    },
    {
      "cell_type": "markdown",
      "metadata": {
        "id": "fDsgGpycO6vM"
      },
      "source": [
        "![image.png](data:image/png;base64,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)"
      ]
    },
    {
      "cell_type": "markdown",
      "metadata": {
        "id": "qIiBjPkZO7Ta"
      },
      "source": [
        "#Punto 4"
      ]
    },
    {
      "cell_type": "markdown",
      "metadata": {
        "id": "Km5rxSAgRFNw"
      },
      "source": [
        "##Datos"
      ]
    },
    {
      "cell_type": "code",
      "metadata": {
        "colab": {
          "base_uri": "https://localhost:8080/"
        },
        "id": "JWrJ1FewL472",
        "outputId": "a629aa3c-026e-40c8-f16d-1b17628f895a"
      },
      "source": [
        "# Obtener datos: dataset-94093\n",
        "#https://drive.google.com/file/d/1PVtE1WQNlVfkHSQ7tqBlKYKWL65JR2r3/view?usp=sharing\n",
        "\n",
        "!wget 'https://drive.google.com/uc?export=download&id=1PVtE1WQNlVfkHSQ7tqBlKYKWL65JR2r3' -O dataset-94093.csv"
      ],
      "execution_count": null,
      "outputs": [
        {
          "output_type": "stream",
          "name": "stdout",
          "text": [
            "--2021-10-14 19:25:43--  https://drive.google.com/uc?export=download&id=1PVtE1WQNlVfkHSQ7tqBlKYKWL65JR2r3\n",
            "Resolving drive.google.com (drive.google.com)... 173.194.195.138, 173.194.195.101, 173.194.195.113, ...\n",
            "Connecting to drive.google.com (drive.google.com)|173.194.195.138|:443... connected.\n",
            "HTTP request sent, awaiting response... 302 Moved Temporarily\n",
            "Location: https://doc-0g-0s-docs.googleusercontent.com/docs/securesc/ha0ro937gcuc7l7deffksulhg5h7mbp1/rppql90jpnavl2eevuvpph6d2l9vbtat/1634239500000/13858096913736680706/*/1PVtE1WQNlVfkHSQ7tqBlKYKWL65JR2r3?e=download [following]\n",
            "Warning: wildcards not supported in HTTP.\n",
            "--2021-10-14 19:25:44--  https://doc-0g-0s-docs.googleusercontent.com/docs/securesc/ha0ro937gcuc7l7deffksulhg5h7mbp1/rppql90jpnavl2eevuvpph6d2l9vbtat/1634239500000/13858096913736680706/*/1PVtE1WQNlVfkHSQ7tqBlKYKWL65JR2r3?e=download\n",
            "Resolving doc-0g-0s-docs.googleusercontent.com (doc-0g-0s-docs.googleusercontent.com)... 142.250.152.132, 2607:f8b0:4001:c56::84\n",
            "Connecting to doc-0g-0s-docs.googleusercontent.com (doc-0g-0s-docs.googleusercontent.com)|142.250.152.132|:443... connected.\n",
            "HTTP request sent, awaiting response... 200 OK\n",
            "Length: 3004 (2.9K) [text/csv]\n",
            "Saving to: ‘dataset-94093.csv’\n",
            "\n",
            "dataset-94093.csv   100%[===================>]   2.93K  --.-KB/s    in 0s      \n",
            "\n",
            "2021-10-14 19:25:44 (94.3 MB/s) - ‘dataset-94093.csv’ saved [3004/3004]\n",
            "\n"
          ]
        }
      ]
    },
    {
      "cell_type": "code",
      "metadata": {
        "colab": {
          "base_uri": "https://localhost:8080/",
          "height": 418
        },
        "id": "h8VSxp3hRJvh",
        "outputId": "7c09d230-f3f6-44a8-e3d8-01ce997e3512"
      },
      "source": [
        "dataset_94093 = pd.read_csv('dataset-94093.csv',sep=',',encoding='latin')\n",
        "dataset_94093"
      ],
      "execution_count": null,
      "outputs": [
        {
          "output_type": "execute_result",
          "data": {
            "text/html": [
              "<div>\n",
              "<style scoped>\n",
              "    .dataframe tbody tr th:only-of-type {\n",
              "        vertical-align: middle;\n",
              "    }\n",
              "\n",
              "    .dataframe tbody tr th {\n",
              "        vertical-align: top;\n",
              "    }\n",
              "\n",
              "    .dataframe thead th {\n",
              "        text-align: right;\n",
              "    }\n",
              "</style>\n",
              "<table border=\"1\" class=\"dataframe\">\n",
              "  <thead>\n",
              "    <tr style=\"text-align: right;\">\n",
              "      <th></th>\n",
              "      <th>population</th>\n",
              "      <th>nonwhite</th>\n",
              "      <th>density</th>\n",
              "      <th>crime</th>\n",
              "    </tr>\n",
              "  </thead>\n",
              "  <tbody>\n",
              "    <tr>\n",
              "      <th>Akron</th>\n",
              "      <td>675.0</td>\n",
              "      <td>7.3</td>\n",
              "      <td>746.0</td>\n",
              "      <td>2602</td>\n",
              "    </tr>\n",
              "    <tr>\n",
              "      <th>Albany</th>\n",
              "      <td>713.0</td>\n",
              "      <td>2.6</td>\n",
              "      <td>322.0</td>\n",
              "      <td>1388</td>\n",
              "    </tr>\n",
              "    <tr>\n",
              "      <th>Albuquerque</th>\n",
              "      <td>NaN</td>\n",
              "      <td>3.3</td>\n",
              "      <td>NaN</td>\n",
              "      <td>5018</td>\n",
              "    </tr>\n",
              "    <tr>\n",
              "      <th>Allentown</th>\n",
              "      <td>534.0</td>\n",
              "      <td>0.8</td>\n",
              "      <td>491.0</td>\n",
              "      <td>1182</td>\n",
              "    </tr>\n",
              "    <tr>\n",
              "      <th>Anaheim</th>\n",
              "      <td>1261.0</td>\n",
              "      <td>1.4</td>\n",
              "      <td>1612.0</td>\n",
              "      <td>3341</td>\n",
              "    </tr>\n",
              "    <tr>\n",
              "      <th>...</th>\n",
              "      <td>...</td>\n",
              "      <td>...</td>\n",
              "      <td>...</td>\n",
              "      <td>...</td>\n",
              "    </tr>\n",
              "    <tr>\n",
              "      <th>Wilkes</th>\n",
              "      <td>340.0</td>\n",
              "      <td>0.3</td>\n",
              "      <td>383.0</td>\n",
              "      <td>613</td>\n",
              "    </tr>\n",
              "    <tr>\n",
              "      <th>Wilmington</th>\n",
              "      <td>488.0</td>\n",
              "      <td>11.7</td>\n",
              "      <td>419.0</td>\n",
              "      <td>2393</td>\n",
              "    </tr>\n",
              "    <tr>\n",
              "      <th>Worcester</th>\n",
              "      <td>612.0</td>\n",
              "      <td>0.9</td>\n",
              "      <td>405.0</td>\n",
              "      <td>2874</td>\n",
              "    </tr>\n",
              "    <tr>\n",
              "      <th>York</th>\n",
              "      <td>316.0</td>\n",
              "      <td>2.0</td>\n",
              "      <td>220.0</td>\n",
              "      <td>1062</td>\n",
              "    </tr>\n",
              "    <tr>\n",
              "      <th>Youngstown</th>\n",
              "      <td>528.0</td>\n",
              "      <td>9.2</td>\n",
              "      <td>513.0</td>\n",
              "      <td>1698</td>\n",
              "    </tr>\n",
              "  </tbody>\n",
              "</table>\n",
              "<p>110 rows × 4 columns</p>\n",
              "</div>"
            ],
            "text/plain": [
              "             population  nonwhite  density  crime\n",
              "Akron             675.0       7.3    746.0   2602\n",
              "Albany            713.0       2.6    322.0   1388\n",
              "Albuquerque         NaN       3.3      NaN   5018\n",
              "Allentown         534.0       0.8    491.0   1182\n",
              "Anaheim          1261.0       1.4   1612.0   3341\n",
              "...                 ...       ...      ...    ...\n",
              "Wilkes            340.0       0.3    383.0    613\n",
              "Wilmington        488.0      11.7    419.0   2393\n",
              "Worcester         612.0       0.9    405.0   2874\n",
              "York              316.0       2.0    220.0   1062\n",
              "Youngstown        528.0       9.2    513.0   1698\n",
              "\n",
              "[110 rows x 4 columns]"
            ]
          },
          "metadata": {},
          "execution_count": 74
        }
      ]
    },
    {
      "cell_type": "markdown",
      "metadata": {
        "id": "D1KZsvVDTiGx"
      },
      "source": [
        "##Estadística Descriptiva"
      ]
    },
    {
      "cell_type": "code",
      "metadata": {
        "colab": {
          "base_uri": "https://localhost:8080/",
          "height": 296
        },
        "id": "uOZAfGIMSlfv",
        "outputId": "2066b33c-901d-459c-9261-e40b5a022dfd"
      },
      "source": [
        "round(dataset_94093.describe(),2)"
      ],
      "execution_count": null,
      "outputs": [
        {
          "output_type": "execute_result",
          "data": {
            "text/html": [
              "<div>\n",
              "<style scoped>\n",
              "    .dataframe tbody tr th:only-of-type {\n",
              "        vertical-align: middle;\n",
              "    }\n",
              "\n",
              "    .dataframe tbody tr th {\n",
              "        vertical-align: top;\n",
              "    }\n",
              "\n",
              "    .dataframe thead th {\n",
              "        text-align: right;\n",
              "    }\n",
              "</style>\n",
              "<table border=\"1\" class=\"dataframe\">\n",
              "  <thead>\n",
              "    <tr style=\"text-align: right;\">\n",
              "      <th></th>\n",
              "      <th>population</th>\n",
              "      <th>nonwhite</th>\n",
              "      <th>density</th>\n",
              "      <th>crime</th>\n",
              "    </tr>\n",
              "  </thead>\n",
              "  <tbody>\n",
              "    <tr>\n",
              "      <th>count</th>\n",
              "      <td>100.00</td>\n",
              "      <td>110.00</td>\n",
              "      <td>100.00</td>\n",
              "      <td>110.00</td>\n",
              "    </tr>\n",
              "    <tr>\n",
              "      <th>mean</th>\n",
              "      <td>1135.99</td>\n",
              "      <td>10.80</td>\n",
              "      <td>765.67</td>\n",
              "      <td>2714.08</td>\n",
              "    </tr>\n",
              "    <tr>\n",
              "      <th>std</th>\n",
              "      <td>1560.14</td>\n",
              "      <td>10.26</td>\n",
              "      <td>1441.95</td>\n",
              "      <td>991.40</td>\n",
              "    </tr>\n",
              "    <tr>\n",
              "      <th>min</th>\n",
              "      <td>270.00</td>\n",
              "      <td>0.30</td>\n",
              "      <td>37.00</td>\n",
              "      <td>458.00</td>\n",
              "    </tr>\n",
              "    <tr>\n",
              "      <th>25%</th>\n",
              "      <td>398.75</td>\n",
              "      <td>3.40</td>\n",
              "      <td>266.50</td>\n",
              "      <td>2066.75</td>\n",
              "    </tr>\n",
              "    <tr>\n",
              "      <th>50%</th>\n",
              "      <td>664.00</td>\n",
              "      <td>7.20</td>\n",
              "      <td>412.00</td>\n",
              "      <td>2698.00</td>\n",
              "    </tr>\n",
              "    <tr>\n",
              "      <th>75%</th>\n",
              "      <td>1167.75</td>\n",
              "      <td>14.88</td>\n",
              "      <td>773.25</td>\n",
              "      <td>3305.00</td>\n",
              "    </tr>\n",
              "    <tr>\n",
              "      <th>max</th>\n",
              "      <td>11551.00</td>\n",
              "      <td>64.30</td>\n",
              "      <td>13087.00</td>\n",
              "      <td>5441.00</td>\n",
              "    </tr>\n",
              "  </tbody>\n",
              "</table>\n",
              "</div>"
            ],
            "text/plain": [
              "       population  nonwhite   density    crime\n",
              "count      100.00    110.00    100.00   110.00\n",
              "mean      1135.99     10.80    765.67  2714.08\n",
              "std       1560.14     10.26   1441.95   991.40\n",
              "min        270.00      0.30     37.00   458.00\n",
              "25%        398.75      3.40    266.50  2066.75\n",
              "50%        664.00      7.20    412.00  2698.00\n",
              "75%       1167.75     14.88    773.25  3305.00\n",
              "max      11551.00     64.30  13087.00  5441.00"
            ]
          },
          "metadata": {},
          "execution_count": 77
        }
      ]
    },
    {
      "cell_type": "code",
      "metadata": {
        "colab": {
          "base_uri": "https://localhost:8080/",
          "height": 387
        },
        "id": "EKI7_R0RT6Cf",
        "outputId": "259e4073-5455-4f47-f9b7-a0da3528ed38"
      },
      "source": [
        "sns.displot(dataset_94093, x= 'crime',multiple='stack')"
      ],
      "execution_count": null,
      "outputs": [
        {
          "output_type": "execute_result",
          "data": {
            "text/plain": [
              "<seaborn.axisgrid.FacetGrid at 0x7fa5a91ec190>"
            ]
          },
          "metadata": {},
          "execution_count": 205
        },
        {
          "output_type": "display_data",
          "data": {
            "image/png": "[encoded data removed]",
            "text/plain": [
              "<Figure size 360x360 with 1 Axes>"
            ]
          },
          "metadata": {
            "needs_background": "light"
          }
        }
      ]
    },
    {
      "cell_type": "code",
      "metadata": {
        "colab": {
          "base_uri": "https://localhost:8080/",
          "height": 387
        },
        "id": "mLy60y2W6HFg",
        "outputId": "ddb2b4ae-fe88-4123-b622-87aeb2dd4fea"
      },
      "source": [
        "sns.displot(dataset_94093, x= 'population',multiple='stack')"
      ],
      "execution_count": null,
      "outputs": [
        {
          "output_type": "execute_result",
          "data": {
            "text/plain": [
              "<seaborn.axisgrid.FacetGrid at 0x7fa5a9254450>"
            ]
          },
          "metadata": {},
          "execution_count": 206
        },
        {
          "output_type": "display_data",
          "data": {
            "image/png": "[encoded data removed]",
            "text/plain": [
              "<Figure size 360x360 with 1 Axes>"
            ]
          },
          "metadata": {
            "needs_background": "light"
          }
        }
      ]
    },
    {
      "cell_type": "code",
      "metadata": {
        "colab": {
          "base_uri": "https://localhost:8080/",
          "height": 387
        },
        "id": "lOINzC3d6J3b",
        "outputId": "02a5fa57-aad6-44a3-f8cf-d6ef5e888db8"
      },
      "source": [
        "sns.displot(dataset_94093, x= 'nonwhite',multiple='stack')"
      ],
      "execution_count": null,
      "outputs": [
        {
          "output_type": "execute_result",
          "data": {
            "text/plain": [
              "<seaborn.axisgrid.FacetGrid at 0x7fa5aa738bd0>"
            ]
          },
          "metadata": {},
          "execution_count": 207
        },
        {
          "output_type": "display_data",
          "data": {
            "image/png": "[encoded data removed]",
            "text/plain": [
              "<Figure size 360x360 with 1 Axes>"
            ]
          },
          "metadata": {
            "needs_background": "light"
          }
        }
      ]
    },
    {
      "cell_type": "code",
      "metadata": {
        "colab": {
          "base_uri": "https://localhost:8080/",
          "height": 387
        },
        "id": "s4W13rKP6J93",
        "outputId": "e3044ab7-749d-474f-addc-7d178f141b77"
      },
      "source": [
        "sns.displot(dataset_94093, x= 'density',multiple='stack')"
      ],
      "execution_count": null,
      "outputs": [
        {
          "output_type": "execute_result",
          "data": {
            "text/plain": [
              "<seaborn.axisgrid.FacetGrid at 0x7fa5be2e5590>"
            ]
          },
          "metadata": {},
          "execution_count": 208
        },
        {
          "output_type": "display_data",
          "data": {
            "image/png": "[encoded data removed]",
            "text/plain": [
              "<Figure size 360x360 with 1 Axes>"
            ]
          },
          "metadata": {
            "needs_background": "light"
          }
        }
      ]
    },
    {
      "cell_type": "markdown",
      "metadata": {
        "id": "ae3EYRWEpfC4"
      },
      "source": [
        "##Regresión Lineal Múltiple"
      ]
    },
    {
      "cell_type": "markdown",
      "metadata": {
        "id": "5uIPvK4xq7jY"
      },
      "source": [
        "Se toma como variable dependiente el Crimen, es decir, asumimos que el crimen está en función de la población, la población no blanca y la densidad de la población. Se espera que estos regresores sean significativos y también estén prediciendo de buena forma el crimen de una región."
      ]
    },
    {
      "cell_type": "code",
      "metadata": {
        "colab": {
          "base_uri": "https://localhost:8080/"
        },
        "id": "euLmfjvGTN6d",
        "outputId": "46e65d70-bf8a-4ada-cd5c-767969d5304c"
      },
      "source": [
        "mod = smf.ols('crime ~ population + nonwhite + density', data=dataset_94093).fit()\n",
        "print(mod.summary())"
      ],
      "execution_count": null,
      "outputs": [
        {
          "output_type": "stream",
          "name": "stdout",
          "text": [
            "                            OLS Regression Results                            \n",
            "==============================================================================\n",
            "Dep. Variable:                  crime   R-squared:                       0.229\n",
            "Model:                            OLS   Adj. R-squared:                  0.205\n",
            "Method:                 Least Squares   F-statistic:                     9.493\n",
            "Date:                Thu, 14 Oct 2021   Prob (F-statistic):           1.50e-05\n",
            "Time:                        21:17:33   Log-Likelihood:                -817.52\n",
            "No. Observations:                 100   AIC:                             1643.\n",
            "Df Residuals:                      96   BIC:                             1653.\n",
            "Df Model:                           3                                         \n",
            "Covariance Type:            nonrobust                                         \n",
            "==============================================================================\n",
            "                 coef    std err          t      P>|t|      [0.025      0.975]\n",
            "------------------------------------------------------------------------------\n",
            "Intercept   2193.7009    143.046     15.336      0.000    1909.757    2477.644\n",
            "population     0.2449      0.061      4.019      0.000       0.124       0.366\n",
            "nonwhite      26.0377      8.767      2.970      0.004       8.634      43.441\n",
            "density       -0.0215      0.066     -0.326      0.745      -0.152       0.109\n",
            "==============================================================================\n",
            "Omnibus:                        0.718   Durbin-Watson:                   2.040\n",
            "Prob(Omnibus):                  0.698   Jarque-Bera (JB):                0.801\n",
            "Skew:                          -0.073   Prob(JB):                        0.670\n",
            "Kurtosis:                       2.587   Cond. No.                     3.63e+03\n",
            "==============================================================================\n",
            "\n",
            "Warnings:\n",
            "[1] Standard Errors assume that the covariance matrix of the errors is correctly specified.\n",
            "[2] The condition number is large, 3.63e+03. This might indicate that there are\n",
            "strong multicollinearity or other numerical problems.\n"
          ]
        }
      ]
    },
    {
      "cell_type": "markdown",
      "metadata": {
        "id": "S5YDGwDqrMvR"
      },
      "source": [
        "Se encuentra que todas las variables, salvo la densidad son significativas, esto es debido a que tienen un valor-p inferior al 0.05 (nivel de significancia) lo cual no sucede con la densidad.\n",
        "Por ende, se vuelve a modelar la regresión, eliminando la variable densidad."
      ]
    },
    {
      "cell_type": "code",
      "metadata": {
        "colab": {
          "base_uri": "https://localhost:8080/"
        },
        "id": "YUUy_gTyrcg8",
        "outputId": "05eff7b5-cd30-426d-d0f7-d76323c5e9d0"
      },
      "source": [
        "mod_2 = smf.ols('crime ~ population + nonwhite', data=dataset_94093).fit()\n",
        "print(mod_2.summary())"
      ],
      "execution_count": null,
      "outputs": [
        {
          "output_type": "stream",
          "name": "stdout",
          "text": [
            "                            OLS Regression Results                            \n",
            "==============================================================================\n",
            "Dep. Variable:                  crime   R-squared:                       0.228\n",
            "Model:                            OLS   Adj. R-squared:                  0.212\n",
            "Method:                 Least Squares   F-statistic:                     14.32\n",
            "Date:                Thu, 14 Oct 2021   Prob (F-statistic):           3.56e-06\n",
            "Time:                        21:21:56   Log-Likelihood:                -817.58\n",
            "No. Observations:                 100   AIC:                             1641.\n",
            "Df Residuals:                      97   BIC:                             1649.\n",
            "Df Model:                           2                                         \n",
            "Covariance Type:            nonrobust                                         \n",
            "==============================================================================\n",
            "                 coef    std err          t      P>|t|      [0.025      0.975]\n",
            "------------------------------------------------------------------------------\n",
            "Intercept   2184.8261    139.785     15.630      0.000    1907.392    2462.260\n",
            "population     0.2376      0.056      4.214      0.000       0.126       0.350\n",
            "nonwhite      26.1112      8.724      2.993      0.004       8.796      43.426\n",
            "==============================================================================\n",
            "Omnibus:                        0.723   Durbin-Watson:                   2.032\n",
            "Prob(Omnibus):                  0.697   Jarque-Bera (JB):                0.793\n",
            "Skew:                          -0.053   Prob(JB):                        0.673\n",
            "Kurtosis:                       2.577   Cond. No.                     3.08e+03\n",
            "==============================================================================\n",
            "\n",
            "Warnings:\n",
            "[1] Standard Errors assume that the covariance matrix of the errors is correctly specified.\n",
            "[2] The condition number is large, 3.08e+03. This might indicate that there are\n",
            "strong multicollinearity or other numerical problems.\n"
          ]
        }
      ]
    },
    {
      "cell_type": "markdown",
      "metadata": {
        "id": "ujL1EItArfeB"
      },
      "source": [
        "Una vez eliminada la variable Densidad, se encuentran que todas las demás variables son significativas, al igual que el modelo, dado su Prueba F de significancia global, que también es inferior a 0.05, por lo cual no descarto la hipotesis nula de significancia global.\n",
        "\n",
        "El modelo es ajustado, y aceptable, sin embargo tiene un R^2 muy bajo, lo que indica que se deberían ingresar más variables para poder predecir de mejor forma el comportamiento del crimen.\n",
        "\n",
        "En conclusión, dado una variación en la cantidad de población en una unidad el crimen variaría 0.697, y ante una variación de 1 en la población no blanca, el crimen variía 26.11 (Dejando todo lo demás constante, respectivamente)."
      ]
    },
    {
      "cell_type": "markdown",
      "metadata": {
        "id": "RR1Y9B_gsZzb"
      },
      "source": [
        "##Correlación"
      ]
    },
    {
      "cell_type": "code",
      "metadata": {
        "colab": {
          "base_uri": "https://localhost:8080/",
          "height": 172
        },
        "id": "W6gNUWhdteR8",
        "outputId": "a27ca59a-36a8-49b4-bf88-7394eb718a2a"
      },
      "source": [
        "corr_matrix = dataset_94093.corr(method='pearson')\n",
        "round(corr_matrix,2)"
      ],
      "execution_count": null,
      "outputs": [
        {
          "output_type": "execute_result",
          "data": {
            "text/html": [
              "<div>\n",
              "<style scoped>\n",
              "    .dataframe tbody tr th:only-of-type {\n",
              "        vertical-align: middle;\n",
              "    }\n",
              "\n",
              "    .dataframe tbody tr th {\n",
              "        vertical-align: top;\n",
              "    }\n",
              "\n",
              "    .dataframe thead th {\n",
              "        text-align: right;\n",
              "    }\n",
              "</style>\n",
              "<table border=\"1\" class=\"dataframe\">\n",
              "  <thead>\n",
              "    <tr style=\"text-align: right;\">\n",
              "      <th></th>\n",
              "      <th>population</th>\n",
              "      <th>nonwhite</th>\n",
              "      <th>density</th>\n",
              "      <th>crime</th>\n",
              "    </tr>\n",
              "  </thead>\n",
              "  <tbody>\n",
              "    <tr>\n",
              "      <th>population</th>\n",
              "      <td>1.00</td>\n",
              "      <td>0.07</td>\n",
              "      <td>0.37</td>\n",
              "      <td>0.40</td>\n",
              "    </tr>\n",
              "    <tr>\n",
              "      <th>nonwhite</th>\n",
              "      <td>0.07</td>\n",
              "      <td>1.00</td>\n",
              "      <td>0.00</td>\n",
              "      <td>0.27</td>\n",
              "    </tr>\n",
              "    <tr>\n",
              "      <th>density</th>\n",
              "      <td>0.37</td>\n",
              "      <td>0.00</td>\n",
              "      <td>1.00</td>\n",
              "      <td>0.11</td>\n",
              "    </tr>\n",
              "    <tr>\n",
              "      <th>crime</th>\n",
              "      <td>0.40</td>\n",
              "      <td>0.27</td>\n",
              "      <td>0.11</td>\n",
              "      <td>1.00</td>\n",
              "    </tr>\n",
              "  </tbody>\n",
              "</table>\n",
              "</div>"
            ],
            "text/plain": [
              "            population  nonwhite  density  crime\n",
              "population        1.00      0.07     0.37   0.40\n",
              "nonwhite          0.07      1.00     0.00   0.27\n",
              "density           0.37      0.00     1.00   0.11\n",
              "crime             0.40      0.27     0.11   1.00"
            ]
          },
          "metadata": {},
          "execution_count": 130
        }
      ]
    },
    {
      "cell_type": "markdown",
      "metadata": {
        "id": "uhVs0oros_C4"
      },
      "source": [
        "##HeatMap\n"
      ]
    },
    {
      "cell_type": "code",
      "metadata": {
        "colab": {
          "base_uri": "https://localhost:8080/",
          "height": 354
        },
        "id": "6p2YK0dctA5e",
        "outputId": "e312f2e3-3ecd-4a65-a513-94a9c8a08c5e"
      },
      "source": [
        "fig, ax = plt.subplots(nrows=1, ncols=1, figsize=(5, 5))\n",
        "\n",
        "sns.heatmap(\n",
        "    corr_matrix,\n",
        "    annot     = True,\n",
        "    cbar      = False,\n",
        "    annot_kws = {\"size\": 8},\n",
        "    vmin      = -1,\n",
        "    vmax      = 1,\n",
        "    center    = 0,\n",
        "    cmap      = sns.diverging_palette(20, 220, n=200),\n",
        "    square    = True,\n",
        "    ax        = ax\n",
        ")\n",
        "\n",
        "ax.set_xticklabels(\n",
        "    ax.get_xticklabels(),\n",
        "    rotation = 45,\n",
        "    horizontalalignment = 'right',\n",
        ")\n",
        "\n",
        "ax.tick_params(labelsize = 10)"
      ],
      "execution_count": null,
      "outputs": [
        {
          "output_type": "display_data",
          "data": {
            "image/png": "[encoded data removed]",
            "text/plain": [
              "<Figure size 360x360 with 1 Axes>"
            ]
          },
          "metadata": {
            "needs_background": "light"
          }
        }
      ]
    },
    {
      "cell_type": "code",
      "metadata": {
        "colab": {
          "base_uri": "https://localhost:8080/",
          "height": 287
        },
        "id": "iEkCvrunwLWf",
        "outputId": "b2db248b-8c00-426c-b3ec-8cc4869dae14"
      },
      "source": [
        "sns.heatmap(dataset_94093)"
      ],
      "execution_count": null,
      "outputs": [
        {
          "output_type": "execute_result",
          "data": {
            "text/plain": [
              "<matplotlib.axes._subplots.AxesSubplot at 0x7fa5a9822810>"
            ]
          },
          "metadata": {},
          "execution_count": 158
        },
        {
          "output_type": "display_data",
          "data": {
            "image/png": "[encoded data removed]",
            "text/plain": [
              "<Figure size 432x288 with 2 Axes>"
            ]
          },
          "metadata": {
            "needs_background": "light"
          }
        }
      ]
    },
    {
      "cell_type": "markdown",
      "metadata": {
        "id": "Vj9xE0G2wf87"
      },
      "source": [
        "##Clustering"
      ]
    },
    {
      "cell_type": "markdown",
      "metadata": {
        "id": "VGzqXS-00NHD"
      },
      "source": [
        "Población"
      ]
    },
    {
      "cell_type": "code",
      "metadata": {
        "colab": {
          "base_uri": "https://localhost:8080/",
          "height": 313
        },
        "id": "-ixZFWz1wfHL",
        "outputId": "0946e74b-d83b-4f80-c888-f442a44cd729"
      },
      "source": [
        "plt.scatter(dataset_94093['population'],dataset_94093['crime'], c='blue')\n",
        "plt.xlabel('Population',fontsize = 10)\n",
        "plt.ylabel('Crime',fontsize = 10)\n",
        "plt.title('Clustering Population')\n",
        "\n",
        "plt.scatter(dataset_94093['nonwhite'],dataset_94093['crime'], c='blue')\n",
        "plt.xlabel('Nonwhite',fontsize = 10)\n",
        "plt.ylabel('Crime',fontsize = 10)\n",
        "plt.title('Clustering Nonwhite')\n",
        "\n",
        "plt.scatter(dataset_94093['density'],dataset_94093['crime'], c='blue')\n",
        "plt.xlabel('Density',fontsize = 10)\n",
        "plt.ylabel('Crime',fontsize = 10)\n",
        "plt.title('Clustering Density')"
      ],
      "execution_count": null,
      "outputs": [
        {
          "output_type": "execute_result",
          "data": {
            "text/plain": [
              "Text(0.5, 1.0, 'Clustering Density')"
            ]
          },
          "metadata": {},
          "execution_count": 171
        },
        {
          "output_type": "display_data",
          "data": {
            "image/png": "[encoded data removed]",
            "text/plain": [
              "<Figure size 432x288 with 1 Axes>"
            ]
          },
          "metadata": {
            "needs_background": "light"
          }
        }
      ]
    },
    {
      "cell_type": "markdown",
      "metadata": {
        "id": "Wb38gnaF0Ol-"
      },
      "source": [
        "Nonwhite"
      ]
    },
    {
      "cell_type": "code",
      "metadata": {
        "colab": {
          "base_uri": "https://localhost:8080/",
          "height": 313
        },
        "id": "gsUCFfqP1jMj",
        "outputId": "86e7fb66-e873-4ec0-df35-b64b543f880b"
      },
      "source": [
        "plt.scatter(dataset_94093['nonwhite'],dataset_94093['crime'], c='blue')\n",
        "plt.xlabel('Nonwhite',fontsize = 10)\n",
        "plt.ylabel('Crime',fontsize = 10)\n",
        "plt.title('Clustering Nonwhite')"
      ],
      "execution_count": null,
      "outputs": [
        {
          "output_type": "execute_result",
          "data": {
            "text/plain": [
              "Text(0.5, 1.0, 'Clustering Nonwhite')"
            ]
          },
          "metadata": {},
          "execution_count": 172
        },
        {
          "output_type": "display_data",
          "data": {
            "image/png": "[encoded data removed]",
            "text/plain": [
              "<Figure size 432x288 with 1 Axes>"
            ]
          },
          "metadata": {
            "needs_background": "light"
          }
        }
      ]
    },
    {
      "cell_type": "markdown",
      "metadata": {
        "id": "6HL8YCgb1wrB"
      },
      "source": [
        "Density"
      ]
    },
    {
      "cell_type": "code",
      "metadata": {
        "colab": {
          "base_uri": "https://localhost:8080/",
          "height": 313
        },
        "id": "PaSH8Q_71jGm",
        "outputId": "187bee65-4a16-4263-b544-b932fa2f6cb3"
      },
      "source": [
        "plt.scatter(dataset_94093['density'],dataset_94093['crime'], c='blue')\n",
        "plt.xlabel('Density',fontsize = 10)\n",
        "plt.ylabel('Crime',fontsize = 10)\n",
        "plt.title('Clustering Density')"
      ],
      "execution_count": null,
      "outputs": [
        {
          "output_type": "execute_result",
          "data": {
            "text/plain": [
              "Text(0.5, 1.0, 'Clustering Density')"
            ]
          },
          "metadata": {},
          "execution_count": 173
        },
        {
          "output_type": "display_data",
          "data": {
            "image/png": "[encoded data removed]",
            "text/plain": [
              "<Figure size 432x288 with 1 Axes>"
            ]
          },
          "metadata": {
            "needs_background": "light"
          }
        }
      ]
    },
    {
      "cell_type": "code",
      "metadata": {
        "id": "lh4hcP_NxQf7"
      },
      "source": [
        "population=dataset_94093[['population','crime']].dropna()\n",
        "nonwhite=dataset_94093[['nonwhite','crime']]\n",
        "density=dataset_94093[['density','crime']].dropna()\n",
        "\n",
        "model_population = KMeans(n_clusters=2, max_iter=1000)\n",
        "X_scaled_population = scale(population)\n",
        "model_population.fit(population)\n",
        "y_labels = model_population.labels_\n",
        "\n",
        "model_nonwhite = KMeans(n_clusters=3, max_iter=1000)\n",
        "X_scaled_nonwhite = scale(nonwhite)\n",
        "model_nonwhite.fit(nonwhite)\n",
        "y_labels = model_nonwhite.labels_\n",
        "\n",
        "model_density = KMeans(n_clusters=3, max_iter=1000)\n",
        "X_scaled_density = scale(density)\n",
        "model_density.fit(density)\n",
        "y_labels = model_density.labels_"
      ],
      "execution_count": null,
      "outputs": []
    },
    {
      "cell_type": "code",
      "metadata": {
        "id": "yBKDK1JT3JjR"
      },
      "source": [
        "y_predict_population = model_population.predict(X_scaled_population)\n",
        "y_predict_nonwhite = model_nonwhite.predict(X=X_scaled_nonwhite)\n",
        "y_predict_density = model_density.predict(X=X_scaled_density)"
      ],
      "execution_count": null,
      "outputs": []
    },
    {
      "cell_type": "code",
      "metadata": {
        "colab": {
          "base_uri": "https://localhost:8080/",
          "height": 297
        },
        "id": "GCZLcIfY4tVx",
        "outputId": "00c13675-e75d-460b-9ffc-7e881fd17c98"
      },
      "source": [
        "plt.scatter(population['population'],population['crime'], c= y_predict_population, s= 30)\n",
        "plt.xlabel('Population', fontsize=10)\n",
        "plt.ylabel('Crime', fontsize=10)"
      ],
      "execution_count": null,
      "outputs": [
        {
          "output_type": "execute_result",
          "data": {
            "text/plain": [
              "Text(0, 0.5, 'Crime')"
            ]
          },
          "metadata": {},
          "execution_count": 196
        },
        {
          "output_type": "display_data",
          "data": {
            "image/png": "[encoded data removed]",
            "text/plain": [
              "<Figure size 432x288 with 1 Axes>"
            ]
          },
          "metadata": {
            "needs_background": "light"
          }
        }
      ]
    },
    {
      "cell_type": "code",
      "metadata": {
        "colab": {
          "base_uri": "https://localhost:8080/",
          "height": 297
        },
        "id": "p0hnG5zP5flB",
        "outputId": "54925582-3e18-403e-d588-8b078dcbbce6"
      },
      "source": [
        "plt.scatter(nonwhite['nonwhite'],nonwhite['crime'], c= y_predict_nonwhite, s= 30)\n",
        "plt.xlabel('Nonwhite', fontsize=10)\n",
        "plt.ylabel('Crime', fontsize=10)"
      ],
      "execution_count": null,
      "outputs": [
        {
          "output_type": "execute_result",
          "data": {
            "text/plain": [
              "Text(0, 0.5, 'Crime')"
            ]
          },
          "metadata": {},
          "execution_count": 203
        },
        {
          "output_type": "display_data",
          "data": {
            "image/png": "[encoded data removed]",
            "text/plain": [
              "<Figure size 432x288 with 1 Axes>"
            ]
          },
          "metadata": {
            "needs_background": "light"
          }
        }
      ]
    },
    {
      "cell_type": "code",
      "metadata": {
        "colab": {
          "base_uri": "https://localhost:8080/",
          "height": 297
        },
        "id": "1eHnYSeJ6qZX",
        "outputId": "14084044-cbd3-4225-9c26-65c0787714ca"
      },
      "source": [
        "plt.scatter(density['density'],density['crime'], c= y_predict_density, s= 30)\n",
        "plt.xlabel('Density', fontsize=10)\n",
        "plt.ylabel('Crime', fontsize=10)"
      ],
      "execution_count": null,
      "outputs": [
        {
          "output_type": "execute_result",
          "data": {
            "text/plain": [
              "Text(0, 0.5, 'Crime')"
            ]
          },
          "metadata": {},
          "execution_count": 211
        },
        {
          "output_type": "display_data",
          "data": {
            "image/png": "[encoded data removed]",
            "text/plain": [
              "<Figure size 432x288 with 1 Axes>"
            ]
          },
          "metadata": {
            "needs_background": "light"
          }
        }
      ]
    },
    {
      "cell_type": "markdown",
      "metadata": {
        "id": "gqFViI9AcBiF"
      },
      "source": [
        "##Respuesta\n",
        "No se detectan patrones significativos que resaltar, esto es comprobado por la baja correlación que hay entre las variables con respecto al Crimen, lo cual también se comprobó en la regresión lineal y en la matriz de correlación, donde sus coeficientes de correlación no pasaban en ningún caso del 40%, y su R^2 era bajo también. Lo cual indica que no hay una relación muy directa entre las variables.\n",
        "\n",
        "Se encuentra nulos los clusters esperados, por lo que no encontré un patrón relevante para poder asignar una vigilancia adicional. Esto se confirma con los scatterplot que están sumamente dispersos, y todo apunta a que no importa si tienes baja población, densidad o no blancos, habrá crimen. Se considera eliminar las variables atípicas que pueden estar afectando el modelo, sin embargo se mencoina nuevamente que esta variable explicativa no está bien explicada por las variables asignadas y se recomienda el uso de unas nuevas.\n"
      ]
    },
    {
      "cell_type": "markdown",
      "metadata": {
        "id": "7OPWbNo2TOlj"
      },
      "source": [
        "#Punto 5\n",
        "Una empresa de ventanas tiene tres empleados que hacen dos tipos de ventanas: con marco de madera o de aluminio. La compañía obtiene 300 dólares de utilidad por cada ventana de marco de madera y 150 dólares de utilidad por cada una de aluminio. El trabajador 1 hace marcos de madera y puede hacer 6 por día. El trabajador 2 hace 4 marcos de aluminio por día. El trabajador 3 forma y corta el vidrio y puede hacer 48 pies^2 de vidrio por día. Cada ventana con marco de madera emplea 6 pies^2 de vidrio y cada una de aluminio 8 pies^2. La empresa quiere saber cuántas ventanas de cada tipo producir para maximizar la ganancia total. Formule el problema y resuélvalo."
      ]
    },
    {
      "cell_type": "markdown",
      "metadata": {
        "id": "Cl3YHyqY5yfW"
      },
      "source": [
        "##Respuesta"
      ]
    },
    {
      "cell_type": "code",
      "metadata": {
        "colab": {
          "base_uri": "https://localhost:8080/",
          "height": 111
        },
        "id": "IqbIEWtbYmRn",
        "outputId": "0a6b31e3-9404-4c32-f421-2ef58424d92c"
      },
      "source": [
        "Matriz = pd.DataFrame([[6,0,6,60],[0,4,8,30]],index=('Madera','Acero'),columns=('Empleado 1', 'Empleado 2', 'Vidrio','Ganancias'))\n",
        "Matriz\n"
      ],
      "execution_count": null,
      "outputs": [
        {
          "output_type": "execute_result",
          "data": {
            "text/html": [
              "<div>\n",
              "<style scoped>\n",
              "    .dataframe tbody tr th:only-of-type {\n",
              "        vertical-align: middle;\n",
              "    }\n",
              "\n",
              "    .dataframe tbody tr th {\n",
              "        vertical-align: top;\n",
              "    }\n",
              "\n",
              "    .dataframe thead th {\n",
              "        text-align: right;\n",
              "    }\n",
              "</style>\n",
              "<table border=\"1\" class=\"dataframe\">\n",
              "  <thead>\n",
              "    <tr style=\"text-align: right;\">\n",
              "      <th></th>\n",
              "      <th>Empleado 1</th>\n",
              "      <th>Empleado 2</th>\n",
              "      <th>Vidrio</th>\n",
              "      <th>Ganancias</th>\n",
              "    </tr>\n",
              "  </thead>\n",
              "  <tbody>\n",
              "    <tr>\n",
              "      <th>Madera</th>\n",
              "      <td>6</td>\n",
              "      <td>0</td>\n",
              "      <td>6</td>\n",
              "      <td>60</td>\n",
              "    </tr>\n",
              "    <tr>\n",
              "      <th>Acero</th>\n",
              "      <td>0</td>\n",
              "      <td>4</td>\n",
              "      <td>8</td>\n",
              "      <td>30</td>\n",
              "    </tr>\n",
              "  </tbody>\n",
              "</table>\n",
              "</div>"
            ],
            "text/plain": [
              "        Empleado 1  Empleado 2  Vidrio  Ganancias\n",
              "Madera           6           0       6         60\n",
              "Acero            0           4       8         30"
            ]
          },
          "metadata": {},
          "execution_count": 98
        }
      ]
    },
    {
      "cell_type": "markdown",
      "metadata": {
        "id": "pCTU_xNZaoVK"
      },
      "source": [
        "Se tiene entonces que la **Función Objetivo es:**\n",
        "\n",
        "\n",
        "> **Max(Z)** = 60 x Madera + 30 x Aluminio\n",
        "\n",
        "**Restricciones**\n",
        "\n",
        "> Madera <= 6\n",
        "\n",
        "> Aluminio <= 4\n",
        "\n",
        "> 6 x Madera + 8 x Aluminio <= 48\n",
        "\n",
        "> Madera, Aluminio >= 0\n",
        "\n",
        "**Igualando las restricciones**\n",
        "\n",
        ">Madera = 6\n",
        "\n",
        ">Aluminio = 4\n",
        "\n",
        ">6 x Madera + 8 x Aluminio = 48\n",
        "\n",
        "**Sacando Valores para Madera, Aluminio**\n",
        "> (1 x Madera + 0 x Aluminio = 6) x -6\n",
        "\n",
        "___\n",
        "\n",
        ">  -6 x Madera - 0 x Aluminio = -36\n",
        "\n",
        "> 6 x Madera + 8 x Aluminio = 48\n",
        "___\n",
        ">0 x Madera + 8 Aluminio = 12\n",
        "\n",
        "Entonces, **Aluminio = 12/8 = 3/2**\n",
        "\n",
        "Reemplazo Aluminio y encuentro Madera\n",
        "\n",
        "> 6 x Madera + 8 x (3/2) = 48\n",
        "\n",
        "Entonces **Madera = 36/6 = 6**\n",
        "\n",
        "Reemplazando en la **Función Objetivo**\n",
        "\n",
        ">**Max(Z)** = 60 x 6 + 30 x 3/2\n",
        "\n",
        "**Max(Z)** = 405\n",
        "\n",
        "**En conclusión, se necesitan 6 marcos de madera y 1.5 (3/2) marcos de aluminio para maximizar la ganancia y obtener $405,\n",
        "\n",
        "\n",
        "\n",
        "\n",
        "\n",
        "\n",
        "\n",
        "\n",
        "\n"
      ]
    },
    {
      "cell_type": "markdown",
      "metadata": {
        "id": "rUW7sdnTe-vd"
      },
      "source": [
        "#Punto 6\n"
      ]
    },
    {
      "cell_type": "markdown",
      "metadata": {
        "id": "j019H4IHgHxE"
      },
      "source": [
        "##Datos"
      ]
    },
    {
      "cell_type": "code",
      "metadata": {
        "colab": {
          "base_uri": "https://localhost:8080/"
        },
        "id": "Z6Xuu9wxa4Ly",
        "outputId": "a15d7e73-5a9b-478d-f8bb-cbf9263cc4bd"
      },
      "source": [
        "# Obtener datos: dataset-94093\n",
        "#https://drive.google.com/file/d/1bSHKnCqFKN03juX8gzTNW_LE9EtIxyow/view?usp=sharing\n",
        "\n",
        "!wget 'https://drive.google.com/uc?export=download&id=1bSHKnCqFKN03juX8gzTNW_LE9EtIxyow' -O HistConsultas.csv"
      ],
      "execution_count": null,
      "outputs": [
        {
          "output_type": "stream",
          "name": "stdout",
          "text": [
            "--2021-10-15 05:29:26--  https://drive.google.com/uc?export=download&id=1bSHKnCqFKN03juX8gzTNW_LE9EtIxyow\n",
            "Resolving drive.google.com (drive.google.com)... 74.125.195.113, 74.125.195.138, 74.125.195.101, ...\n",
            "Connecting to drive.google.com (drive.google.com)|74.125.195.113|:443... connected.\n",
            "HTTP request sent, awaiting response... 302 Moved Temporarily\n",
            "Location: https://doc-0g-0s-docs.googleusercontent.com/docs/securesc/ha0ro937gcuc7l7deffksulhg5h7mbp1/eenshevh3tk8popejlotqiimg8vkdou4/1634275725000/13858096913736680706/*/1bSHKnCqFKN03juX8gzTNW_LE9EtIxyow?e=download [following]\n",
            "Warning: wildcards not supported in HTTP.\n",
            "--2021-10-15 05:29:27--  https://doc-0g-0s-docs.googleusercontent.com/docs/securesc/ha0ro937gcuc7l7deffksulhg5h7mbp1/eenshevh3tk8popejlotqiimg8vkdou4/1634275725000/13858096913736680706/*/1bSHKnCqFKN03juX8gzTNW_LE9EtIxyow?e=download\n",
            "Resolving doc-0g-0s-docs.googleusercontent.com (doc-0g-0s-docs.googleusercontent.com)... 74.125.199.132, 2607:f8b0:400e:c02::84\n",
            "Connecting to doc-0g-0s-docs.googleusercontent.com (doc-0g-0s-docs.googleusercontent.com)|74.125.199.132|:443... connected.\n",
            "HTTP request sent, awaiting response... 200 OK\n",
            "Length: 33089800 (32M) [text/csv]\n",
            "Saving to: ‘HistConsultas.csv’\n",
            "\n",
            "HistConsultas.csv   100%[===================>]  31.56M  71.3MB/s    in 0.4s    \n",
            "\n",
            "2021-10-15 05:29:28 (71.3 MB/s) - ‘HistConsultas.csv’ saved [33089800/33089800]\n",
            "\n"
          ]
        }
      ]
    },
    {
      "cell_type": "code",
      "metadata": {
        "colab": {
          "base_uri": "https://localhost:8080/",
          "height": 418
        },
        "id": "FIzL74KWgJT3",
        "outputId": "75b3044c-690a-409e-a0df-e1aa370890b8"
      },
      "source": [
        "HistConsultas = pd.read_csv('HistConsultas.csv',sep=';',encoding='latin')\n",
        "HistConsultas"
      ],
      "execution_count": null,
      "outputs": [
        {
          "output_type": "execute_result",
          "data": {
            "text/html": [
              "<div>\n",
              "<style scoped>\n",
              "    .dataframe tbody tr th:only-of-type {\n",
              "        vertical-align: middle;\n",
              "    }\n",
              "\n",
              "    .dataframe tbody tr th {\n",
              "        vertical-align: top;\n",
              "    }\n",
              "\n",
              "    .dataframe thead th {\n",
              "        text-align: right;\n",
              "    }\n",
              "</style>\n",
              "<table border=\"1\" class=\"dataframe\">\n",
              "  <thead>\n",
              "    <tr style=\"text-align: right;\">\n",
              "      <th></th>\n",
              "      <th>ID_Cuenta</th>\n",
              "      <th>Fecha_consulta</th>\n",
              "      <th>Tipo_consulta</th>\n",
              "    </tr>\n",
              "  </thead>\n",
              "  <tbody>\n",
              "    <tr>\n",
              "      <th>0</th>\n",
              "      <td>340</td>\n",
              "      <td>2015-06-22 16:14:35</td>\n",
              "      <td>Actualización datos</td>\n",
              "    </tr>\n",
              "    <tr>\n",
              "      <th>1</th>\n",
              "      <td>340</td>\n",
              "      <td>2015-06-22 16:37:02</td>\n",
              "      <td>Agendamiento citas</td>\n",
              "    </tr>\n",
              "    <tr>\n",
              "      <th>2</th>\n",
              "      <td>340</td>\n",
              "      <td>2015-06-22 15:50:56</td>\n",
              "      <td>Agendamiento citas</td>\n",
              "    </tr>\n",
              "    <tr>\n",
              "      <th>3</th>\n",
              "      <td>4d5c0e16-9bef-8334-687e-55f043e02c62</td>\n",
              "      <td>2015-09-09 14:35:37</td>\n",
              "      <td>Agendamiento citas</td>\n",
              "    </tr>\n",
              "    <tr>\n",
              "      <th>4</th>\n",
              "      <td>66df1d0e-0d2c-1e44-aa3a-55b2a013640c</td>\n",
              "      <td>2015-07-24 20:36:26</td>\n",
              "      <td>Agendamiento citas</td>\n",
              "    </tr>\n",
              "    <tr>\n",
              "      <th>...</th>\n",
              "      <td>...</td>\n",
              "      <td>...</td>\n",
              "      <td>...</td>\n",
              "    </tr>\n",
              "    <tr>\n",
              "      <th>641475</th>\n",
              "      <td>YA5972336</td>\n",
              "      <td>2015-06-23 18:09:45</td>\n",
              "      <td>Agendamiento citas</td>\n",
              "    </tr>\n",
              "    <tr>\n",
              "      <th>641476</th>\n",
              "      <td>YA5981643</td>\n",
              "      <td>2015-06-23 19:35:04</td>\n",
              "      <td>Actualización datos</td>\n",
              "    </tr>\n",
              "    <tr>\n",
              "      <th>641477</th>\n",
              "      <td>YB429084</td>\n",
              "      <td>2015-08-19 21:28:34</td>\n",
              "      <td>Agendamiento citas</td>\n",
              "    </tr>\n",
              "    <tr>\n",
              "      <th>641478</th>\n",
              "      <td>YO231519S</td>\n",
              "      <td>2015-06-30 13:05:21</td>\n",
              "      <td>Información general</td>\n",
              "    </tr>\n",
              "    <tr>\n",
              "      <th>641479</th>\n",
              "      <td>Z3047092</td>\n",
              "      <td>2015-09-25 14:42:42</td>\n",
              "      <td>Agendamiento citas</td>\n",
              "    </tr>\n",
              "  </tbody>\n",
              "</table>\n",
              "<p>641480 rows × 3 columns</p>\n",
              "</div>"
            ],
            "text/plain": [
              "                                   ID_Cuenta  ...        Tipo_consulta\n",
              "0                                        340  ...  Actualización datos\n",
              "1                                        340  ...   Agendamiento citas\n",
              "2                                        340  ...   Agendamiento citas\n",
              "3       4d5c0e16-9bef-8334-687e-55f043e02c62  ...   Agendamiento citas\n",
              "4       66df1d0e-0d2c-1e44-aa3a-55b2a013640c  ...   Agendamiento citas\n",
              "...                                      ...  ...                  ...\n",
              "641475                             YA5972336  ...   Agendamiento citas\n",
              "641476                             YA5981643  ...  Actualización datos\n",
              "641477                              YB429084  ...   Agendamiento citas\n",
              "641478                             YO231519S  ...  Información general\n",
              "641479                              Z3047092  ...   Agendamiento citas\n",
              "\n",
              "[641480 rows x 3 columns]"
            ]
          },
          "metadata": {},
          "execution_count": 7
        }
      ]
    },
    {
      "cell_type": "code",
      "metadata": {
        "colab": {
          "base_uri": "https://localhost:8080/"
        },
        "id": "mHP__Kxfgh4v",
        "outputId": "e616b999-1e68-426a-a502-7d4ad6b1b7b9"
      },
      "source": [
        "# Obtener datos: dataset-94093\n",
        "#https://drive.google.com/file/d/19kxrI7QanUFIJ-JHFAm_-aHpg67bg49E/view?usp=sharing\n",
        "\n",
        "!wget 'https://drive.google.com/uc?export=download&id=19kxrI7QanUFIJ-JHFAm_-aHpg67bg49E' -O Usuarios.csv"
      ],
      "execution_count": null,
      "outputs": [
        {
          "output_type": "stream",
          "name": "stdout",
          "text": [
            "--2021-10-15 05:29:24--  https://drive.google.com/uc?export=download&id=19kxrI7QanUFIJ-JHFAm_-aHpg67bg49E\n",
            "Resolving drive.google.com (drive.google.com)... 74.125.195.101, 74.125.195.138, 74.125.195.139, ...\n",
            "Connecting to drive.google.com (drive.google.com)|74.125.195.101|:443... connected.\n",
            "HTTP request sent, awaiting response... 302 Moved Temporarily\n",
            "Location: https://doc-0s-0s-docs.googleusercontent.com/docs/securesc/ha0ro937gcuc7l7deffksulhg5h7mbp1/eu3hlpt2st6f77jmnh98e3nq236srp97/1634275725000/13858096913736680706/*/19kxrI7QanUFIJ-JHFAm_-aHpg67bg49E?e=download [following]\n",
            "Warning: wildcards not supported in HTTP.\n",
            "--2021-10-15 05:29:26--  https://doc-0s-0s-docs.googleusercontent.com/docs/securesc/ha0ro937gcuc7l7deffksulhg5h7mbp1/eu3hlpt2st6f77jmnh98e3nq236srp97/1634275725000/13858096913736680706/*/19kxrI7QanUFIJ-JHFAm_-aHpg67bg49E?e=download\n",
            "Resolving doc-0s-0s-docs.googleusercontent.com (doc-0s-0s-docs.googleusercontent.com)... 74.125.199.132, 2607:f8b0:400e:c02::84\n",
            "Connecting to doc-0s-0s-docs.googleusercontent.com (doc-0s-0s-docs.googleusercontent.com)|74.125.199.132|:443... connected.\n",
            "HTTP request sent, awaiting response... 200 OK\n",
            "Length: 13879410 (13M) [text/csv]\n",
            "Saving to: ‘Usuarios.csv’\n",
            "\n",
            "Usuarios.csv        100%[===================>]  13.24M  --.-KB/s    in 0.1s    \n",
            "\n",
            "2021-10-15 05:29:26 (92.9 MB/s) - ‘Usuarios.csv’ saved [13879410/13879410]\n",
            "\n"
          ]
        }
      ]
    },
    {
      "cell_type": "code",
      "metadata": {
        "colab": {
          "base_uri": "https://localhost:8080/",
          "height": 418
        },
        "id": "iduTxhPYguh9",
        "outputId": "6bffbb5b-eb12-4fb8-d407-3cbab861721d"
      },
      "source": [
        "Usuarios = pd.read_csv('Usuarios.csv',sep=';',encoding='latin')\n",
        "Usuarios"
      ],
      "execution_count": null,
      "outputs": [
        {
          "output_type": "execute_result",
          "data": {
            "text/html": [
              "<div>\n",
              "<style scoped>\n",
              "    .dataframe tbody tr th:only-of-type {\n",
              "        vertical-align: middle;\n",
              "    }\n",
              "\n",
              "    .dataframe tbody tr th {\n",
              "        vertical-align: top;\n",
              "    }\n",
              "\n",
              "    .dataframe thead th {\n",
              "        text-align: right;\n",
              "    }\n",
              "</style>\n",
              "<table border=\"1\" class=\"dataframe\">\n",
              "  <thead>\n",
              "    <tr style=\"text-align: right;\">\n",
              "      <th></th>\n",
              "      <th>ID_Cuenta</th>\n",
              "      <th>Tipo_persona</th>\n",
              "      <th>Departamento</th>\n",
              "    </tr>\n",
              "  </thead>\n",
              "  <tbody>\n",
              "    <tr>\n",
              "      <th>0</th>\n",
              "      <td>340</td>\n",
              "      <td>soltero</td>\n",
              "      <td>Santafé de Bogotá</td>\n",
              "    </tr>\n",
              "    <tr>\n",
              "      <th>1</th>\n",
              "      <td>4d5c0e16-9bef-8334-687e-55f043e02c62</td>\n",
              "      <td>soltero</td>\n",
              "      <td>Santafé de Bogotá</td>\n",
              "    </tr>\n",
              "    <tr>\n",
              "      <th>2</th>\n",
              "      <td>66df1d0e-0d2c-1e44-aa3a-55b2a013640c</td>\n",
              "      <td>soltero</td>\n",
              "      <td>Santafé de Bogotá</td>\n",
              "    </tr>\n",
              "    <tr>\n",
              "      <th>3</th>\n",
              "      <td>1640de7c-ba08-cdfc-c21b-517fd7c5a259</td>\n",
              "      <td>soltero</td>\n",
              "      <td>Santafé de Bogotá</td>\n",
              "    </tr>\n",
              "    <tr>\n",
              "      <th>4</th>\n",
              "      <td>e820f090-f4e7-eb8b-677c-55808c868b6f</td>\n",
              "      <td>unión libre</td>\n",
              "      <td>Santafé de Bogotá</td>\n",
              "    </tr>\n",
              "    <tr>\n",
              "      <th>...</th>\n",
              "      <td>...</td>\n",
              "      <td>...</td>\n",
              "      <td>...</td>\n",
              "    </tr>\n",
              "    <tr>\n",
              "      <th>337046</th>\n",
              "      <td>YA5972336</td>\n",
              "      <td>soltero</td>\n",
              "      <td>Santafé de Bogotá</td>\n",
              "    </tr>\n",
              "    <tr>\n",
              "      <th>337047</th>\n",
              "      <td>YA5981643</td>\n",
              "      <td>soltero</td>\n",
              "      <td>Santafé de Bogotá</td>\n",
              "    </tr>\n",
              "    <tr>\n",
              "      <th>337048</th>\n",
              "      <td>YB429084</td>\n",
              "      <td>NaN</td>\n",
              "      <td>Santafé de Bogotá</td>\n",
              "    </tr>\n",
              "    <tr>\n",
              "      <th>337049</th>\n",
              "      <td>YO231519S</td>\n",
              "      <td>soltero</td>\n",
              "      <td>Exterior</td>\n",
              "    </tr>\n",
              "    <tr>\n",
              "      <th>337050</th>\n",
              "      <td>Z3047092</td>\n",
              "      <td>soltero</td>\n",
              "      <td>Santafé de Bogotá</td>\n",
              "    </tr>\n",
              "  </tbody>\n",
              "</table>\n",
              "<p>337051 rows × 3 columns</p>\n",
              "</div>"
            ],
            "text/plain": [
              "                                   ID_Cuenta Tipo_persona       Departamento\n",
              "0                                        340      soltero  Santafé de Bogotá\n",
              "1       4d5c0e16-9bef-8334-687e-55f043e02c62      soltero  Santafé de Bogotá\n",
              "2       66df1d0e-0d2c-1e44-aa3a-55b2a013640c      soltero  Santafé de Bogotá\n",
              "3       1640de7c-ba08-cdfc-c21b-517fd7c5a259      soltero  Santafé de Bogotá\n",
              "4       e820f090-f4e7-eb8b-677c-55808c868b6f  unión libre  Santafé de Bogotá\n",
              "...                                      ...          ...                ...\n",
              "337046                             YA5972336      soltero  Santafé de Bogotá\n",
              "337047                             YA5981643      soltero  Santafé de Bogotá\n",
              "337048                              YB429084          NaN  Santafé de Bogotá\n",
              "337049                             YO231519S      soltero           Exterior\n",
              "337050                              Z3047092      soltero  Santafé de Bogotá\n",
              "\n",
              "[337051 rows x 3 columns]"
            ]
          },
          "metadata": {},
          "execution_count": 8
        }
      ]
    },
    {
      "cell_type": "code",
      "metadata": {
        "colab": {
          "base_uri": "https://localhost:8080/",
          "height": 418
        },
        "id": "gaED1qzAnIbc",
        "outputId": "6ddb1c49-3234-42ef-a8a1-95133c827d7c"
      },
      "source": [
        "bd_customers = pd.merge(HistConsultas,Usuarios, how='right', on='ID_Cuenta')\n",
        "bd_customers"
      ],
      "execution_count": null,
      "outputs": [
        {
          "output_type": "execute_result",
          "data": {
            "text/html": [
              "<div>\n",
              "<style scoped>\n",
              "    .dataframe tbody tr th:only-of-type {\n",
              "        vertical-align: middle;\n",
              "    }\n",
              "\n",
              "    .dataframe tbody tr th {\n",
              "        vertical-align: top;\n",
              "    }\n",
              "\n",
              "    .dataframe thead th {\n",
              "        text-align: right;\n",
              "    }\n",
              "</style>\n",
              "<table border=\"1\" class=\"dataframe\">\n",
              "  <thead>\n",
              "    <tr style=\"text-align: right;\">\n",
              "      <th></th>\n",
              "      <th>ID_Cuenta</th>\n",
              "      <th>Fecha_consulta</th>\n",
              "      <th>Tipo_consulta</th>\n",
              "      <th>Tipo_persona</th>\n",
              "      <th>Departamento</th>\n",
              "    </tr>\n",
              "  </thead>\n",
              "  <tbody>\n",
              "    <tr>\n",
              "      <th>0</th>\n",
              "      <td>340</td>\n",
              "      <td>2015-06-22 16:14:35</td>\n",
              "      <td>Actualización datos</td>\n",
              "      <td>soltero</td>\n",
              "      <td>Santafé de Bogotá</td>\n",
              "    </tr>\n",
              "    <tr>\n",
              "      <th>1</th>\n",
              "      <td>340</td>\n",
              "      <td>2015-06-22 16:37:02</td>\n",
              "      <td>Agendamiento citas</td>\n",
              "      <td>soltero</td>\n",
              "      <td>Santafé de Bogotá</td>\n",
              "    </tr>\n",
              "    <tr>\n",
              "      <th>2</th>\n",
              "      <td>340</td>\n",
              "      <td>2015-06-22 15:50:56</td>\n",
              "      <td>Agendamiento citas</td>\n",
              "      <td>soltero</td>\n",
              "      <td>Santafé de Bogotá</td>\n",
              "    </tr>\n",
              "    <tr>\n",
              "      <th>3</th>\n",
              "      <td>4d5c0e16-9bef-8334-687e-55f043e02c62</td>\n",
              "      <td>2015-09-09 14:35:37</td>\n",
              "      <td>Agendamiento citas</td>\n",
              "      <td>soltero</td>\n",
              "      <td>Santafé de Bogotá</td>\n",
              "    </tr>\n",
              "    <tr>\n",
              "      <th>4</th>\n",
              "      <td>66df1d0e-0d2c-1e44-aa3a-55b2a013640c</td>\n",
              "      <td>2015-07-24 20:36:26</td>\n",
              "      <td>Agendamiento citas</td>\n",
              "      <td>soltero</td>\n",
              "      <td>Santafé de Bogotá</td>\n",
              "    </tr>\n",
              "    <tr>\n",
              "      <th>...</th>\n",
              "      <td>...</td>\n",
              "      <td>...</td>\n",
              "      <td>...</td>\n",
              "      <td>...</td>\n",
              "      <td>...</td>\n",
              "    </tr>\n",
              "    <tr>\n",
              "      <th>722245</th>\n",
              "      <td>YA5972336</td>\n",
              "      <td>2015-06-23 18:09:45</td>\n",
              "      <td>Agendamiento citas</td>\n",
              "      <td>soltero</td>\n",
              "      <td>Santafé de Bogotá</td>\n",
              "    </tr>\n",
              "    <tr>\n",
              "      <th>722246</th>\n",
              "      <td>YA5981643</td>\n",
              "      <td>2015-06-23 19:35:04</td>\n",
              "      <td>Actualización datos</td>\n",
              "      <td>soltero</td>\n",
              "      <td>Santafé de Bogotá</td>\n",
              "    </tr>\n",
              "    <tr>\n",
              "      <th>722247</th>\n",
              "      <td>YB429084</td>\n",
              "      <td>2015-08-19 21:28:34</td>\n",
              "      <td>Agendamiento citas</td>\n",
              "      <td>NaN</td>\n",
              "      <td>Santafé de Bogotá</td>\n",
              "    </tr>\n",
              "    <tr>\n",
              "      <th>722248</th>\n",
              "      <td>YO231519S</td>\n",
              "      <td>2015-06-30 13:05:21</td>\n",
              "      <td>Información general</td>\n",
              "      <td>soltero</td>\n",
              "      <td>Exterior</td>\n",
              "    </tr>\n",
              "    <tr>\n",
              "      <th>722249</th>\n",
              "      <td>Z3047092</td>\n",
              "      <td>2015-09-25 14:42:42</td>\n",
              "      <td>Agendamiento citas</td>\n",
              "      <td>soltero</td>\n",
              "      <td>Santafé de Bogotá</td>\n",
              "    </tr>\n",
              "  </tbody>\n",
              "</table>\n",
              "<p>722250 rows × 5 columns</p>\n",
              "</div>"
            ],
            "text/plain": [
              "                                   ID_Cuenta  ...       Departamento\n",
              "0                                        340  ...  Santafé de Bogotá\n",
              "1                                        340  ...  Santafé de Bogotá\n",
              "2                                        340  ...  Santafé de Bogotá\n",
              "3       4d5c0e16-9bef-8334-687e-55f043e02c62  ...  Santafé de Bogotá\n",
              "4       66df1d0e-0d2c-1e44-aa3a-55b2a013640c  ...  Santafé de Bogotá\n",
              "...                                      ...  ...                ...\n",
              "722245                             YA5972336  ...  Santafé de Bogotá\n",
              "722246                             YA5981643  ...  Santafé de Bogotá\n",
              "722247                              YB429084  ...  Santafé de Bogotá\n",
              "722248                             YO231519S  ...           Exterior\n",
              "722249                              Z3047092  ...  Santafé de Bogotá\n",
              "\n",
              "[722250 rows x 5 columns]"
            ]
          },
          "metadata": {},
          "execution_count": 9
        }
      ]
    },
    {
      "cell_type": "markdown",
      "metadata": {
        "id": "Z8tjgWIq6fvm"
      },
      "source": [
        "##a. ¿Existe alguna relación entre el tipo de persona y el tipo de consulta realizada"
      ]
    },
    {
      "cell_type": "code",
      "metadata": {
        "id": "PXsQ7-L25vLa"
      },
      "source": [
        "#bd_customers.pivot_table(index='Tipo_consulta',columns='Tipo_persona',values='Tipo_consulta',aggfunc='cou')"
      ],
      "execution_count": null,
      "outputs": []
    },
    {
      "cell_type": "code",
      "metadata": {
        "colab": {
          "base_uri": "https://localhost:8080/"
        },
        "id": "WEVVVvj98Crf",
        "outputId": "aaf998ee-a15c-4a91-fad1-203de7d0c226"
      },
      "source": [
        "bd_customers['Tipo_consulta'].unique()"
      ],
      "execution_count": null,
      "outputs": [
        {
          "output_type": "execute_result",
          "data": {
            "text/plain": [
              "array(['Actualización datos', 'Agendamiento citas', 'Peticiones y quejas',\n",
              "       'Procesos web', 'Información general'], dtype=object)"
            ]
          },
          "metadata": {},
          "execution_count": 15
        }
      ]
    },
    {
      "cell_type": "code",
      "metadata": {
        "colab": {
          "base_uri": "https://localhost:8080/"
        },
        "id": "2L72x8VsbjIG",
        "outputId": "c9c6c399-89ea-4ba6-c894-907a65d7a898"
      },
      "source": [
        "bd_customers['Tipo_persona'].unique()"
      ],
      "execution_count": null,
      "outputs": [
        {
          "output_type": "execute_result",
          "data": {
            "text/plain": [
              "array(['soltero', 'unión libre', 'casado', 'soltero-casado.', 'no sabe',\n",
              "       '/casado.', nan, 'no dijo', 'carlos'], dtype=object)"
            ]
          },
          "metadata": {},
          "execution_count": 16
        }
      ]
    },
    {
      "cell_type": "code",
      "metadata": {
        "colab": {
          "base_uri": "https://localhost:8080/",
          "height": 337
        },
        "id": "l6cZC4eMbLlN",
        "outputId": "583522e5-2953-494b-ccea-4cbdc2766faf"
      },
      "source": [
        "plt.hist(bd_customers['Tipo_consulta'])"
      ],
      "execution_count": null,
      "outputs": [
        {
          "output_type": "execute_result",
          "data": {
            "text/plain": [
              "(array([125884.,      0., 179227.,      0.,      0., 117189.,      0.,\n",
              "        279561.,      0.,  20389.]),\n",
              " array([0. , 0.4, 0.8, 1.2, 1.6, 2. , 2.4, 2.8, 3.2, 3.6, 4. ]),\n",
              " <a list of 10 Patch objects>)"
            ]
          },
          "metadata": {},
          "execution_count": 11
        },
        {
          "output_type": "display_data",
          "data": {
            "image/png": "[encoded data removed]",
            "text/plain": [
              "<Figure size 432x288 with 1 Axes>"
            ]
          },
          "metadata": {
            "needs_background": "light"
          }
        }
      ]
    },
    {
      "cell_type": "code",
      "metadata": {
        "colab": {
          "base_uri": "https://localhost:8080/",
          "height": 235
        },
        "id": "NIjJ_fc1dQps",
        "outputId": "8bc4f34d-64db-43d6-9055-291e562aa0c6"
      },
      "source": [
        "grouped_df = bd_customers.groupby('Tipo_consulta')\n",
        "counter = grouped_df.count()\n",
        "counter"
      ],
      "execution_count": null,
      "outputs": [
        {
          "output_type": "execute_result",
          "data": {
            "text/html": [
              "<div>\n",
              "<style scoped>\n",
              "    .dataframe tbody tr th:only-of-type {\n",
              "        vertical-align: middle;\n",
              "    }\n",
              "\n",
              "    .dataframe tbody tr th {\n",
              "        vertical-align: top;\n",
              "    }\n",
              "\n",
              "    .dataframe thead th {\n",
              "        text-align: right;\n",
              "    }\n",
              "</style>\n",
              "<table border=\"1\" class=\"dataframe\">\n",
              "  <thead>\n",
              "    <tr style=\"text-align: right;\">\n",
              "      <th></th>\n",
              "      <th>ID_Cuenta</th>\n",
              "      <th>Fecha_consulta</th>\n",
              "      <th>Tipo_persona</th>\n",
              "      <th>Departamento</th>\n",
              "    </tr>\n",
              "    <tr>\n",
              "      <th>Tipo_consulta</th>\n",
              "      <th></th>\n",
              "      <th></th>\n",
              "      <th></th>\n",
              "      <th></th>\n",
              "    </tr>\n",
              "  </thead>\n",
              "  <tbody>\n",
              "    <tr>\n",
              "      <th>Actualización datos</th>\n",
              "      <td>125884</td>\n",
              "      <td>125884</td>\n",
              "      <td>123398</td>\n",
              "      <td>125884</td>\n",
              "    </tr>\n",
              "    <tr>\n",
              "      <th>Agendamiento citas</th>\n",
              "      <td>179227</td>\n",
              "      <td>179227</td>\n",
              "      <td>175727</td>\n",
              "      <td>179227</td>\n",
              "    </tr>\n",
              "    <tr>\n",
              "      <th>Información general</th>\n",
              "      <td>20389</td>\n",
              "      <td>20389</td>\n",
              "      <td>20026</td>\n",
              "      <td>20389</td>\n",
              "    </tr>\n",
              "    <tr>\n",
              "      <th>Peticiones y quejas</th>\n",
              "      <td>117189</td>\n",
              "      <td>117189</td>\n",
              "      <td>114853</td>\n",
              "      <td>117189</td>\n",
              "    </tr>\n",
              "    <tr>\n",
              "      <th>Procesos web</th>\n",
              "      <td>279561</td>\n",
              "      <td>279561</td>\n",
              "      <td>273779</td>\n",
              "      <td>279561</td>\n",
              "    </tr>\n",
              "  </tbody>\n",
              "</table>\n",
              "</div>"
            ],
            "text/plain": [
              "                     ID_Cuenta  Fecha_consulta  Tipo_persona  Departamento\n",
              "Tipo_consulta                                                             \n",
              "Actualización datos     125884          125884        123398        125884\n",
              "Agendamiento citas      179227          179227        175727        179227\n",
              "Información general      20389           20389         20026         20389\n",
              "Peticiones y quejas     117189          117189        114853        117189\n",
              "Procesos web            279561          279561        273779        279561"
            ]
          },
          "metadata": {},
          "execution_count": 22
        }
      ]
    },
    {
      "cell_type": "code",
      "metadata": {
        "colab": {
          "base_uri": "https://localhost:8080/",
          "height": 327
        },
        "id": "Qq3NaDgcdvVU",
        "outputId": "58baaca9-fa60-45b3-9611-6449339cbf97"
      },
      "source": [
        "grouped_df2 = bd_customers.groupby('Tipo_persona')\n",
        "counter2 = grouped_df2.count()\n",
        "counter2"
      ],
      "execution_count": null,
      "outputs": [
        {
          "output_type": "execute_result",
          "data": {
            "text/html": [
              "<div>\n",
              "<style scoped>\n",
              "    .dataframe tbody tr th:only-of-type {\n",
              "        vertical-align: middle;\n",
              "    }\n",
              "\n",
              "    .dataframe tbody tr th {\n",
              "        vertical-align: top;\n",
              "    }\n",
              "\n",
              "    .dataframe thead th {\n",
              "        text-align: right;\n",
              "    }\n",
              "</style>\n",
              "<table border=\"1\" class=\"dataframe\">\n",
              "  <thead>\n",
              "    <tr style=\"text-align: right;\">\n",
              "      <th></th>\n",
              "      <th>ID_Cuenta</th>\n",
              "      <th>Fecha_consulta</th>\n",
              "      <th>Tipo_consulta</th>\n",
              "      <th>Departamento</th>\n",
              "    </tr>\n",
              "    <tr>\n",
              "      <th>Tipo_persona</th>\n",
              "      <th></th>\n",
              "      <th></th>\n",
              "      <th></th>\n",
              "      <th></th>\n",
              "    </tr>\n",
              "  </thead>\n",
              "  <tbody>\n",
              "    <tr>\n",
              "      <th>/casado.</th>\n",
              "      <td>21618</td>\n",
              "      <td>21618</td>\n",
              "      <td>21618</td>\n",
              "      <td>21618</td>\n",
              "    </tr>\n",
              "    <tr>\n",
              "      <th>carlos</th>\n",
              "      <td>96</td>\n",
              "      <td>96</td>\n",
              "      <td>96</td>\n",
              "      <td>96</td>\n",
              "    </tr>\n",
              "    <tr>\n",
              "      <th>casado</th>\n",
              "      <td>8927</td>\n",
              "      <td>8927</td>\n",
              "      <td>8927</td>\n",
              "      <td>8927</td>\n",
              "    </tr>\n",
              "    <tr>\n",
              "      <th>no dijo</th>\n",
              "      <td>6933</td>\n",
              "      <td>6933</td>\n",
              "      <td>6933</td>\n",
              "      <td>6933</td>\n",
              "    </tr>\n",
              "    <tr>\n",
              "      <th>no sabe</th>\n",
              "      <td>22121</td>\n",
              "      <td>22121</td>\n",
              "      <td>22121</td>\n",
              "      <td>22121</td>\n",
              "    </tr>\n",
              "    <tr>\n",
              "      <th>soltero</th>\n",
              "      <td>498477</td>\n",
              "      <td>498477</td>\n",
              "      <td>498477</td>\n",
              "      <td>498477</td>\n",
              "    </tr>\n",
              "    <tr>\n",
              "      <th>soltero-casado.</th>\n",
              "      <td>7171</td>\n",
              "      <td>7171</td>\n",
              "      <td>7171</td>\n",
              "      <td>7171</td>\n",
              "    </tr>\n",
              "    <tr>\n",
              "      <th>unión libre</th>\n",
              "      <td>142440</td>\n",
              "      <td>142440</td>\n",
              "      <td>142440</td>\n",
              "      <td>142440</td>\n",
              "    </tr>\n",
              "  </tbody>\n",
              "</table>\n",
              "</div>"
            ],
            "text/plain": [
              "                 ID_Cuenta  Fecha_consulta  Tipo_consulta  Departamento\n",
              "Tipo_persona                                                           \n",
              "/casado.             21618           21618          21618         21618\n",
              "carlos                  96              96             96            96\n",
              "casado                8927            8927           8927          8927\n",
              "no dijo               6933            6933           6933          6933\n",
              "no sabe              22121           22121          22121         22121\n",
              "soltero             498477          498477         498477        498477\n",
              "soltero-casado.       7171            7171           7171          7171\n",
              "unión libre         142440          142440         142440        142440"
            ]
          },
          "metadata": {},
          "execution_count": 23
        }
      ]
    },
    {
      "cell_type": "code",
      "metadata": {
        "colab": {
          "base_uri": "https://localhost:8080/"
        },
        "id": "2dNuLdaqfDBV",
        "outputId": "fc5d8681-17c9-4ba0-817e-500c9619d5f5"
      },
      "source": [
        "bd_customers['Tipo_consulta'].value_counts()"
      ],
      "execution_count": null,
      "outputs": [
        {
          "output_type": "execute_result",
          "data": {
            "text/plain": [
              "Procesos web           279561\n",
              "Agendamiento citas     179227\n",
              "Actualización datos    125884\n",
              "Peticiones y quejas    117189\n",
              "Información general     20389\n",
              "Name: Tipo_consulta, dtype: int64"
            ]
          },
          "metadata": {},
          "execution_count": 24
        }
      ]
    },
    {
      "cell_type": "code",
      "metadata": {
        "colab": {
          "base_uri": "https://localhost:8080/"
        },
        "id": "NSPG68-RfiAk",
        "outputId": "850f56e8-4387-4116-8185-913d2f0118f8"
      },
      "source": [
        "bd_customers['Departamento'].value_counts()"
      ],
      "execution_count": null,
      "outputs": [
        {
          "output_type": "execute_result",
          "data": {
            "text/plain": [
              "Santafé de Bogotá    488843\n",
              "Antioquia             49995\n",
              "Valle del Cauca       36783\n",
              "Cundinamarca          27964\n",
              "SANTAFÉ DE BOGOTÁ     25772\n",
              "                      ...  \n",
              "CAQUETÁ                  10\n",
              "CHOCÓ                     6\n",
              "AMAZONAS                  5\n",
              "VAUPÉS                    3\n",
              "GUAVIARE                  1\n",
              "Name: Departamento, Length: 66, dtype: int64"
            ]
          },
          "metadata": {},
          "execution_count": 25
        }
      ]
    }
  ]
}